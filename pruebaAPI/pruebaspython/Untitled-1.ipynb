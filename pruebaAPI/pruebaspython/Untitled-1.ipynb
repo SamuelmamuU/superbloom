{
 "cells": [
  {
   "cell_type": "code",
   "execution_count": null,
   "id": "2dc1d818",
   "metadata": {},
   "outputs": [],
   "source": [
    "!pip install geemap folium\n"
   ]
  },
  {
   "cell_type": "code",
   "execution_count": null,
   "id": "0684d410",
   "metadata": {},
   "outputs": [],
   "source": [
    "!pip install earthengine-api\n"
   ]
  },
  {
   "cell_type": "code",
   "execution_count": null,
   "id": "c71105ce",
   "metadata": {},
   "outputs": [],
   "source": [
    "import ee\n",
    "import geemap\n"
   ]
  },
  {
   "cell_type": "code",
   "execution_count": null,
   "id": "61a2cb6b",
   "metadata": {},
   "outputs": [],
   "source": [
    "ee.Authenticate()\n"
   ]
  },
  {
   "cell_type": "code",
   "execution_count": null,
   "id": "9e954838",
   "metadata": {},
   "outputs": [],
   "source": [
    "ee.Initialize(project='super-bloom')\n"
   ]
  },
  {
   "cell_type": "code",
   "execution_count": null,
   "id": "61fc44f7",
   "metadata": {},
   "outputs": [],
   "source": [
    "\n",
    "# Definir región y fecha\n",
    "region = ee.Geometry.Rectangle([-118.6,34.4,-117.8,35.0])\n",
    "start = '2023-04-01'\n",
    "end = '2023-04-30'\n",
    "\n",
    "# Colección Sentinel-2\n",
    "collection = ee.ImageCollection('COPERNICUS/S2_SR_HARMONIZED') \\\n",
    "    .filterDate(start, end) \\\n",
    "    .filterBounds(region)\n",
    "\n",
    "# Mediana de todas las imágenes en el periodo\n",
    "image = collection.median()\n",
    "\n",
    "# Calcular NDVI\n",
    "ndvi = image.normalizedDifference(['B8', 'B4']).rename('NDVI')\n",
    "\n",
    "# Crear mapa con geemap\n",
    "Map = geemap.Map(center=[34.7, -118.2], zoom=10)\n",
    "\n",
    "# Añadir NDVI al mapa\n",
    "ndvi_params = {'min': 0, 'max': 1, 'palette': ['brown','yellow','green']}\n",
    "Map.addLayer(ndvi, ndvi_params, 'NDVI Abril')\n",
    "\n",
    "# Mostrar mapa interactivo\n",
    "Map.to_html('NDVI_Abril.html')\n",
    "\n"
   ]
  },
  {
   "cell_type": "code",
   "execution_count": null,
   "id": "2dc172e9",
   "metadata": {},
   "outputs": [],
   "source": [
    "# Definir fecha y región\n",
    "start = '2023-04-01'\n",
    "end = '2023-04-30'\n",
    "region = ee.Geometry.Rectangle([-118.6,34.4,-117.8,35.0])\n",
    "\n",
    "# Filtrar la colección Sentinel-2 SR Harmonized\n",
    "collection = ee.ImageCollection('COPERNICUS/S2_SR_HARMONIZED') \\\n",
    "    .filterDate(start, end) \\\n",
    "    .filterBounds(region)\n",
    "\n",
    "# Aplicar mediana para obtener una sola imagen representativa\n",
    "image = collection.median()\n",
    "\n",
    "# Probar que se cargó\n",
    "print(image.getInfo())\n"
   ]
  }
 ],
 "metadata": {
  "kernelspec": {
   "display_name": "Python 3",
   "language": "python",
   "name": "python3"
  },
  "language_info": {
   "codemirror_mode": {
    "name": "ipython",
    "version": 3
   },
   "file_extension": ".py",
   "mimetype": "text/x-python",
   "name": "python",
   "nbconvert_exporter": "python",
   "pygments_lexer": "ipython3",
   "version": "3.12.3"
  }
 },
 "nbformat": 4,
 "nbformat_minor": 5
}
